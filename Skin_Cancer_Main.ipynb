{
  "cells": [
    {
      "cell_type": "code",
      "execution_count": null,
      "metadata": {
        "id": "HeBr3U9dzBBg"
      },
      "outputs": [],
      "source": [
        "import numpy as np\n",
        "import pandas as pd\n",
        "from sklearn.model_selection import train_test_split\n",
        "from keras.utils.np_utils import to_categorical # convert to one-hot-encoding\n",
        "\n",
        "from tensorflow.keras.preprocessing.image import ImageDataGenerator\n",
        "from tensorflow.keras import layers\n",
        "from tensorflow.keras import Model\n",
        "from tensorflow.keras.optimizers import Adam\n",
        "from tensorflow.keras.callbacks import ReduceLROnPlateau\n",
        "%matplotlib inline\n",
        "\n",
        "import matplotlib.pyplot as plt"
      ]
    },
    {
      "cell_type": "markdown",
      "metadata": {
        "id": "M1BzjwNzUB1T"
      },
      "source": [
        "## Load In the Data"
      ]
    },
    {
      "cell_type": "code",
      "execution_count": null,
      "metadata": {
        "id": "F3zhcgJD4lhk"
      },
      "outputs": [],
      "source": [
        "skin_df = pd.read_csv('https://raw.githubusercontent.com/smridhiwho/Skin-Detection/main/hmnist_28_28_RGB.csv?token=GHSAT0AAAAAABU7JYFGCJEQMFWQFPHZPXYEYV45Y3Q')"
      ]
    },
    {
      "cell_type": "code",
      "execution_count": null,
      "metadata": {
        "colab": {
          "base_uri": "https://localhost:8080/",
          "height": 299
        },
        "id": "W-viELZ74uN2",
        "outputId": "503e4561-d16f-4b10-9d11-af52f1a22653"
      },
      "outputs": [
        {
          "output_type": "execute_result",
          "data": {
            "text/plain": [
              "   pixel0000  pixel0001  pixel0002  pixel0003  pixel0004  pixel0005  \\\n",
              "0        192        153        193        195        155        192   \n",
              "1         25         14         30         68         48         75   \n",
              "2        192        138        153        200        145        163   \n",
              "3         38         19         30         95         59         72   \n",
              "4        158        113        139        194        144        174   \n",
              "\n",
              "   pixel0006  pixel0007  pixel0008  pixel0009  ...  pixel2343  pixel2344  \\\n",
              "0        197        154        185        202  ...        173        124   \n",
              "1        123         93        126        158  ...         60         39   \n",
              "2        201        142        160        206  ...        167        129   \n",
              "3        143        103        119        171  ...         44         26   \n",
              "4        215        162        191        225  ...        209        166   \n",
              "\n",
              "   pixel2345  pixel2346  pixel2347  pixel2348  pixel2349  pixel2350  \\\n",
              "0        138        183        147        166        185        154   \n",
              "1         55         25         14         28         25         14   \n",
              "2        143        159        124        142        136        104   \n",
              "3         36         25         12         17         25         12   \n",
              "4        185        172        135        149        109         78   \n",
              "\n",
              "   pixel2351  label  \n",
              "0        177      2  \n",
              "1         27      2  \n",
              "2        117      2  \n",
              "3         15      2  \n",
              "4         92      2  \n",
              "\n",
              "[5 rows x 2353 columns]"
            ],
            "text/html": [
              "\n",
              "  <div id=\"df-285eea1b-e2ba-4bae-b6f3-6daf252bc498\">\n",
              "    <div class=\"colab-df-container\">\n",
              "      <div>\n",
              "<style scoped>\n",
              "    .dataframe tbody tr th:only-of-type {\n",
              "        vertical-align: middle;\n",
              "    }\n",
              "\n",
              "    .dataframe tbody tr th {\n",
              "        vertical-align: top;\n",
              "    }\n",
              "\n",
              "    .dataframe thead th {\n",
              "        text-align: right;\n",
              "    }\n",
              "</style>\n",
              "<table border=\"1\" class=\"dataframe\">\n",
              "  <thead>\n",
              "    <tr style=\"text-align: right;\">\n",
              "      <th></th>\n",
              "      <th>pixel0000</th>\n",
              "      <th>pixel0001</th>\n",
              "      <th>pixel0002</th>\n",
              "      <th>pixel0003</th>\n",
              "      <th>pixel0004</th>\n",
              "      <th>pixel0005</th>\n",
              "      <th>pixel0006</th>\n",
              "      <th>pixel0007</th>\n",
              "      <th>pixel0008</th>\n",
              "      <th>pixel0009</th>\n",
              "      <th>...</th>\n",
              "      <th>pixel2343</th>\n",
              "      <th>pixel2344</th>\n",
              "      <th>pixel2345</th>\n",
              "      <th>pixel2346</th>\n",
              "      <th>pixel2347</th>\n",
              "      <th>pixel2348</th>\n",
              "      <th>pixel2349</th>\n",
              "      <th>pixel2350</th>\n",
              "      <th>pixel2351</th>\n",
              "      <th>label</th>\n",
              "    </tr>\n",
              "  </thead>\n",
              "  <tbody>\n",
              "    <tr>\n",
              "      <th>0</th>\n",
              "      <td>192</td>\n",
              "      <td>153</td>\n",
              "      <td>193</td>\n",
              "      <td>195</td>\n",
              "      <td>155</td>\n",
              "      <td>192</td>\n",
              "      <td>197</td>\n",
              "      <td>154</td>\n",
              "      <td>185</td>\n",
              "      <td>202</td>\n",
              "      <td>...</td>\n",
              "      <td>173</td>\n",
              "      <td>124</td>\n",
              "      <td>138</td>\n",
              "      <td>183</td>\n",
              "      <td>147</td>\n",
              "      <td>166</td>\n",
              "      <td>185</td>\n",
              "      <td>154</td>\n",
              "      <td>177</td>\n",
              "      <td>2</td>\n",
              "    </tr>\n",
              "    <tr>\n",
              "      <th>1</th>\n",
              "      <td>25</td>\n",
              "      <td>14</td>\n",
              "      <td>30</td>\n",
              "      <td>68</td>\n",
              "      <td>48</td>\n",
              "      <td>75</td>\n",
              "      <td>123</td>\n",
              "      <td>93</td>\n",
              "      <td>126</td>\n",
              "      <td>158</td>\n",
              "      <td>...</td>\n",
              "      <td>60</td>\n",
              "      <td>39</td>\n",
              "      <td>55</td>\n",
              "      <td>25</td>\n",
              "      <td>14</td>\n",
              "      <td>28</td>\n",
              "      <td>25</td>\n",
              "      <td>14</td>\n",
              "      <td>27</td>\n",
              "      <td>2</td>\n",
              "    </tr>\n",
              "    <tr>\n",
              "      <th>2</th>\n",
              "      <td>192</td>\n",
              "      <td>138</td>\n",
              "      <td>153</td>\n",
              "      <td>200</td>\n",
              "      <td>145</td>\n",
              "      <td>163</td>\n",
              "      <td>201</td>\n",
              "      <td>142</td>\n",
              "      <td>160</td>\n",
              "      <td>206</td>\n",
              "      <td>...</td>\n",
              "      <td>167</td>\n",
              "      <td>129</td>\n",
              "      <td>143</td>\n",
              "      <td>159</td>\n",
              "      <td>124</td>\n",
              "      <td>142</td>\n",
              "      <td>136</td>\n",
              "      <td>104</td>\n",
              "      <td>117</td>\n",
              "      <td>2</td>\n",
              "    </tr>\n",
              "    <tr>\n",
              "      <th>3</th>\n",
              "      <td>38</td>\n",
              "      <td>19</td>\n",
              "      <td>30</td>\n",
              "      <td>95</td>\n",
              "      <td>59</td>\n",
              "      <td>72</td>\n",
              "      <td>143</td>\n",
              "      <td>103</td>\n",
              "      <td>119</td>\n",
              "      <td>171</td>\n",
              "      <td>...</td>\n",
              "      <td>44</td>\n",
              "      <td>26</td>\n",
              "      <td>36</td>\n",
              "      <td>25</td>\n",
              "      <td>12</td>\n",
              "      <td>17</td>\n",
              "      <td>25</td>\n",
              "      <td>12</td>\n",
              "      <td>15</td>\n",
              "      <td>2</td>\n",
              "    </tr>\n",
              "    <tr>\n",
              "      <th>4</th>\n",
              "      <td>158</td>\n",
              "      <td>113</td>\n",
              "      <td>139</td>\n",
              "      <td>194</td>\n",
              "      <td>144</td>\n",
              "      <td>174</td>\n",
              "      <td>215</td>\n",
              "      <td>162</td>\n",
              "      <td>191</td>\n",
              "      <td>225</td>\n",
              "      <td>...</td>\n",
              "      <td>209</td>\n",
              "      <td>166</td>\n",
              "      <td>185</td>\n",
              "      <td>172</td>\n",
              "      <td>135</td>\n",
              "      <td>149</td>\n",
              "      <td>109</td>\n",
              "      <td>78</td>\n",
              "      <td>92</td>\n",
              "      <td>2</td>\n",
              "    </tr>\n",
              "  </tbody>\n",
              "</table>\n",
              "<p>5 rows × 2353 columns</p>\n",
              "</div>\n",
              "      <button class=\"colab-df-convert\" onclick=\"convertToInteractive('df-285eea1b-e2ba-4bae-b6f3-6daf252bc498')\"\n",
              "              title=\"Convert this dataframe to an interactive table.\"\n",
              "              style=\"display:none;\">\n",
              "        \n",
              "  <svg xmlns=\"http://www.w3.org/2000/svg\" height=\"24px\"viewBox=\"0 0 24 24\"\n",
              "       width=\"24px\">\n",
              "    <path d=\"M0 0h24v24H0V0z\" fill=\"none\"/>\n",
              "    <path d=\"M18.56 5.44l.94 2.06.94-2.06 2.06-.94-2.06-.94-.94-2.06-.94 2.06-2.06.94zm-11 1L8.5 8.5l.94-2.06 2.06-.94-2.06-.94L8.5 2.5l-.94 2.06-2.06.94zm10 10l.94 2.06.94-2.06 2.06-.94-2.06-.94-.94-2.06-.94 2.06-2.06.94z\"/><path d=\"M17.41 7.96l-1.37-1.37c-.4-.4-.92-.59-1.43-.59-.52 0-1.04.2-1.43.59L10.3 9.45l-7.72 7.72c-.78.78-.78 2.05 0 2.83L4 21.41c.39.39.9.59 1.41.59.51 0 1.02-.2 1.41-.59l7.78-7.78 2.81-2.81c.8-.78.8-2.07 0-2.86zM5.41 20L4 18.59l7.72-7.72 1.47 1.35L5.41 20z\"/>\n",
              "  </svg>\n",
              "      </button>\n",
              "      \n",
              "  <style>\n",
              "    .colab-df-container {\n",
              "      display:flex;\n",
              "      flex-wrap:wrap;\n",
              "      gap: 12px;\n",
              "    }\n",
              "\n",
              "    .colab-df-convert {\n",
              "      background-color: #E8F0FE;\n",
              "      border: none;\n",
              "      border-radius: 50%;\n",
              "      cursor: pointer;\n",
              "      display: none;\n",
              "      fill: #1967D2;\n",
              "      height: 32px;\n",
              "      padding: 0 0 0 0;\n",
              "      width: 32px;\n",
              "    }\n",
              "\n",
              "    .colab-df-convert:hover {\n",
              "      background-color: #E2EBFA;\n",
              "      box-shadow: 0px 1px 2px rgba(60, 64, 67, 0.3), 0px 1px 3px 1px rgba(60, 64, 67, 0.15);\n",
              "      fill: #174EA6;\n",
              "    }\n",
              "\n",
              "    [theme=dark] .colab-df-convert {\n",
              "      background-color: #3B4455;\n",
              "      fill: #D2E3FC;\n",
              "    }\n",
              "\n",
              "    [theme=dark] .colab-df-convert:hover {\n",
              "      background-color: #434B5C;\n",
              "      box-shadow: 0px 1px 3px 1px rgba(0, 0, 0, 0.15);\n",
              "      filter: drop-shadow(0px 1px 2px rgba(0, 0, 0, 0.3));\n",
              "      fill: #FFFFFF;\n",
              "    }\n",
              "  </style>\n",
              "\n",
              "      <script>\n",
              "        const buttonEl =\n",
              "          document.querySelector('#df-285eea1b-e2ba-4bae-b6f3-6daf252bc498 button.colab-df-convert');\n",
              "        buttonEl.style.display =\n",
              "          google.colab.kernel.accessAllowed ? 'block' : 'none';\n",
              "\n",
              "        async function convertToInteractive(key) {\n",
              "          const element = document.querySelector('#df-285eea1b-e2ba-4bae-b6f3-6daf252bc498');\n",
              "          const dataTable =\n",
              "            await google.colab.kernel.invokeFunction('convertToInteractive',\n",
              "                                                     [key], {});\n",
              "          if (!dataTable) return;\n",
              "\n",
              "          const docLinkHtml = 'Like what you see? Visit the ' +\n",
              "            '<a target=\"_blank\" href=https://colab.research.google.com/notebooks/data_table.ipynb>data table notebook</a>'\n",
              "            + ' to learn more about interactive tables.';\n",
              "          element.innerHTML = '';\n",
              "          dataTable['output_type'] = 'display_data';\n",
              "          await google.colab.output.renderOutput(dataTable, element);\n",
              "          const docLink = document.createElement('div');\n",
              "          docLink.innerHTML = docLinkHtml;\n",
              "          element.appendChild(docLink);\n",
              "        }\n",
              "      </script>\n",
              "    </div>\n",
              "  </div>\n",
              "  "
            ]
          },
          "metadata": {},
          "execution_count": 4
        }
      ],
      "source": [
        "skin_df.head()"
      ]
    },
    {
      "cell_type": "code",
      "execution_count": null,
      "metadata": {
        "id": "C1psqaTj45AM"
      },
      "outputs": [],
      "source": [
        "X = skin_df.drop(\"label\", axis=1).values\n",
        "label = skin_df[\"label\"].values"
      ]
    },
    {
      "cell_type": "code",
      "execution_count": null,
      "metadata": {
        "colab": {
          "base_uri": "https://localhost:8080/"
        },
        "id": "1e2D7SCz5LQh",
        "outputId": "3812851b-8096-4401-a78c-5d03469c1783"
      },
      "outputs": [
        {
          "output_type": "execute_result",
          "data": {
            "text/plain": [
              "((10015, 2352), (10015,))"
            ]
          },
          "metadata": {},
          "execution_count": 8
        }
      ],
      "source": [
        "X.shape, label.shape"
      ]
    },
    {
      "cell_type": "markdown",
      "metadata": {
        "id": "E3iU_vSjUIpn"
      },
      "source": [
        "## Scaling and Split Data into Train, Validation and Test set"
      ]
    },
    {
      "cell_type": "code",
      "execution_count": null,
      "metadata": {
        "id": "q25NL3-X5jry"
      },
      "outputs": [],
      "source": [
        "X_mean = np.mean(X)\n",
        "X_std = np.std(X)\n",
        "\n",
        "X = (X - X_mean)/X_std"
      ]
    },
    {
      "cell_type": "code",
      "execution_count": null,
      "metadata": {
        "id": "oGH8wMmy6Mew"
      },
      "outputs": [],
      "source": [
        "X_train_orig, X_test, y_train_orig, y_test = train_test_split(X, label, test_size=0.1,random_state=0)"
      ]
    },
    {
      "cell_type": "code",
      "execution_count": null,
      "metadata": {
        "colab": {
          "base_uri": "https://localhost:8080/"
        },
        "id": "hU0BQ6c6B1tu",
        "outputId": "b466f331-3582-470b-c19b-eb2d12edcdcc"
      },
      "outputs": [
        {
          "output_type": "execute_result",
          "data": {
            "text/plain": [
              "((9013, 2352), (1002, 2352), (9013,), (1002,))"
            ]
          },
          "metadata": {},
          "execution_count": 11
        }
      ],
      "source": [
        "X_train_orig.shape, X_test.shape, y_train_orig.shape, y_test.shape"
      ]
    },
    {
      "cell_type": "code",
      "execution_count": null,
      "metadata": {
        "id": "_WzFxSy1ByyY"
      },
      "outputs": [],
      "source": [
        "X_train, X_val, y_train, y_val = train_test_split(X_train_orig, y_train_orig, test_size=0.2, random_state=1)"
      ]
    },
    {
      "cell_type": "code",
      "execution_count": null,
      "metadata": {
        "colab": {
          "base_uri": "https://localhost:8080/"
        },
        "id": "HiK1KmsMCF5B",
        "outputId": "cc3686b3-9621-4c0b-da5b-5ecb01a28b3a"
      },
      "outputs": [
        {
          "output_type": "execute_result",
          "data": {
            "text/plain": [
              "((7210, 2352), (1803, 2352), (7210,), (1803,))"
            ]
          },
          "metadata": {},
          "execution_count": 13
        }
      ],
      "source": [
        "X_train.shape, X_val.shape, y_train.shape, y_val.shape"
      ]
    },
    {
      "cell_type": "markdown",
      "metadata": {
        "id": "4Zl7b9mFURFJ"
      },
      "source": [
        "## Reshape the Data to Input in CNN"
      ]
    },
    {
      "cell_type": "code",
      "execution_count": null,
      "metadata": {
        "id": "mdbb6U1W6mx2"
      },
      "outputs": [],
      "source": [
        "X_train = X_train.reshape(X_train.shape[0], *(28, 28, 3))\n",
        "X_val = X_val.reshape(X_val.shape[0], *(28, 28, 3))\n",
        "X_test = X_test.reshape(X_test.shape[0], *(28, 28, 3))"
      ]
    },
    {
      "cell_type": "code",
      "execution_count": null,
      "metadata": {
        "colab": {
          "base_uri": "https://localhost:8080/"
        },
        "id": "odlh2eEz629K",
        "outputId": "2e160bc3-c980-4b8a-abac-e3f31036b17e"
      },
      "outputs": [
        {
          "output_type": "execute_result",
          "data": {
            "text/plain": [
              "((7210, 28, 28, 3), (1803, 28, 28, 3), (1002, 28, 28, 3))"
            ]
          },
          "metadata": {},
          "execution_count": 15
        }
      ],
      "source": [
        "X_train.shape, X_val.shape, X_test.shape"
      ]
    },
    {
      "cell_type": "code",
      "execution_count": null,
      "metadata": {
        "colab": {
          "base_uri": "https://localhost:8080/"
        },
        "id": "ToBfm6FCE82c",
        "outputId": "c9001ff1-df9b-4067-8c07-ba083d9f9fde"
      },
      "outputs": [
        {
          "output_type": "execute_result",
          "data": {
            "text/plain": [
              "(7210,)"
            ]
          },
          "metadata": {},
          "execution_count": 16
        }
      ],
      "source": [
        "y_train.shape"
      ]
    },
    {
      "cell_type": "code",
      "execution_count": null,
      "metadata": {
        "id": "bv1nE9AkBMXJ"
      },
      "outputs": [],
      "source": [
        "y_train = to_categorical(y_train)\n",
        "y_val = to_categorical(y_val)\n",
        "y_test = to_categorical(y_test)"
      ]
    },
    {
      "cell_type": "code",
      "execution_count": null,
      "metadata": {
        "colab": {
          "base_uri": "https://localhost:8080/"
        },
        "id": "UuRfmdeYCsW5",
        "outputId": "e34430c5-81a3-4377-86dd-50ef0c31bb5a"
      },
      "outputs": [
        {
          "output_type": "execute_result",
          "data": {
            "text/plain": [
              "((7210, 7), (1803, 7), (1002, 7))"
            ]
          },
          "metadata": {},
          "execution_count": 18
        }
      ],
      "source": [
        "y_train.shape, y_val.shape, y_test.shape"
      ]
    },
    {
      "cell_type": "markdown",
      "metadata": {
        "id": "5vVaAuWtUVJU"
      },
      "source": [
        "## CNN Model"
      ]
    },
    {
      "cell_type": "code",
      "execution_count": null,
      "metadata": {
        "colab": {
          "base_uri": "https://localhost:8080/"
        },
        "id": "9i2prFW67mwJ",
        "outputId": "5c252434-cb8f-4adb-a1e4-287785e61716"
      },
      "outputs": [
        {
          "output_type": "stream",
          "name": "stderr",
          "text": [
            "/usr/local/lib/python3.7/dist-packages/keras/optimizer_v2/adam.py:105: UserWarning: The `lr` argument is deprecated, use `learning_rate` instead.\n",
            "  super(Adam, self).__init__(name, **kwargs)\n"
          ]
        }
      ],
      "source": [
        "# Our input feature map is 28x28x3: 28x28 for the image pixels, and 3 for\n",
        "# the three color channels: R, G, and B\n",
        "img_input = layers.Input(shape=(28, 28, 3))\n",
        "\n",
        "# First convolution extracts 16 filters that are 3x3\n",
        "# Convolution is followed by max-pooling layer with a 2x2 window\n",
        "x = layers.Conv2D(16, 3, activation='relu', padding='same')(img_input)\n",
        "x = layers.MaxPooling2D(2)(x)\n",
        "\n",
        "# Second convolution extracts 32 filters that are 3x3\n",
        "# Convolution is followed by max-pooling layer with a 2x2 window\n",
        "x = layers.Conv2D(32, 3, activation='relu', padding='same')(x)\n",
        "x = layers.MaxPooling2D(2)(x)\n",
        "\n",
        "# Third convolution extracts 28 filters that are 3x3\n",
        "# Convolution is followed by max-pooling layer with a 2x2 window\n",
        "x = layers.Convolution2D(28, 3, activation='relu', padding='same')(x)\n",
        "x = layers.MaxPooling2D(2)(x)\n",
        "\n",
        "# Flatten feature map to a 1-dim tensor\n",
        "x = layers.Flatten()(x)\n",
        "\n",
        "# Create a fully connected layer with ReLU activation and 512 hidden units\n",
        "x = layers.Dense(512, activation='relu')(x)\n",
        "\n",
        "# Add a dropout rate of 0.5\n",
        "x = layers.Dropout(0.5)(x)\n",
        "\n",
        "# Create output layer with a single node and sigmoid activation\n",
        "output = layers.Dense(7, activation='softmax')(x)\n",
        "\n",
        "# Configure and compile the model\n",
        "model = Model(img_input, output)\n",
        "\n",
        "optimizer = Adam(lr=0.001, beta_1=0.9, beta_2=0.999, epsilon=None, decay=0.0, amsgrad=False)\n",
        "\n",
        "model.compile(loss='categorical_crossentropy', optimizer=optimizer, metrics=['accuracy'])"
      ]
    },
    {
      "cell_type": "code",
      "execution_count": null,
      "metadata": {
        "colab": {
          "base_uri": "https://localhost:8080/"
        },
        "id": "JXh46jmDA9c6",
        "outputId": "0a71749e-5323-4657-8d02-b0bfdb5cbe85"
      },
      "outputs": [
        {
          "output_type": "stream",
          "name": "stdout",
          "text": [
            "Model: \"model_1\"\n",
            "_________________________________________________________________\n",
            " Layer (type)                Output Shape              Param #   \n",
            "=================================================================\n",
            " input_2 (InputLayer)        [(None, 28, 28, 3)]       0         \n",
            "                                                                 \n",
            " conv2d_3 (Conv2D)           (None, 28, 28, 16)        448       \n",
            "                                                                 \n",
            " max_pooling2d_3 (MaxPooling  (None, 14, 14, 16)       0         \n",
            " 2D)                                                             \n",
            "                                                                 \n",
            " conv2d_4 (Conv2D)           (None, 14, 14, 32)        4640      \n",
            "                                                                 \n",
            " max_pooling2d_4 (MaxPooling  (None, 7, 7, 32)         0         \n",
            " 2D)                                                             \n",
            "                                                                 \n",
            " conv2d_5 (Conv2D)           (None, 7, 7, 28)          8092      \n",
            "                                                                 \n",
            " max_pooling2d_5 (MaxPooling  (None, 3, 3, 28)         0         \n",
            " 2D)                                                             \n",
            "                                                                 \n",
            " flatten_1 (Flatten)         (None, 252)               0         \n",
            "                                                                 \n",
            " dense_2 (Dense)             (None, 512)               129536    \n",
            "                                                                 \n",
            " dropout_1 (Dropout)         (None, 512)               0         \n",
            "                                                                 \n",
            " dense_3 (Dense)             (None, 7)                 3591      \n",
            "                                                                 \n",
            "=================================================================\n",
            "Total params: 146,307\n",
            "Trainable params: 146,307\n",
            "Non-trainable params: 0\n",
            "_________________________________________________________________\n"
          ]
        }
      ],
      "source": [
        "model.summary()"
      ]
    },
    {
      "cell_type": "markdown",
      "metadata": {
        "id": "fSoYM0JEUbGT"
      },
      "source": [
        "## Define Data Generator for Data Augmentation and Learning Rate Adaptive Reduction to Prevent Overfitting"
      ]
    },
    {
      "cell_type": "code",
      "execution_count": null,
      "metadata": {
        "id": "_ITW1SFVFuHk"
      },
      "outputs": [],
      "source": [
        "train_datagen = ImageDataGenerator(rotation_range=40, width_shift_range=0.2, height_shift_range=0.2,\n",
        "                             shear_range=0.2, zoom_range=0.2, horizontal_flip=True, fill_mode='nearest')\n",
        "\n",
        "train_datagen.fit(X_train)\n",
        "\n",
        "val_datagen = ImageDataGenerator()\n",
        "val_datagen.fit(X_val)"
      ]
    },
    {
      "cell_type": "code",
      "execution_count": null,
      "metadata": {
        "id": "-FvlOkvw8GJ0"
      },
      "outputs": [],
      "source": [
        "learning_rate_reduction = ReduceLROnPlateau(monitor='val_acc', patience=3, verbose=1, factor=0.5, min_lr=0.00001)"
      ]
    },
    {
      "cell_type": "code",
      "execution_count": null,
      "metadata": {
        "colab": {
          "base_uri": "https://localhost:8080/"
        },
        "id": "epgliUU-_EWz",
        "outputId": "2ebda780-2581-47fd-def3-e9482ba4d2dc"
      },
      "outputs": [
        {
          "output_type": "stream",
          "name": "stdout",
          "text": [
            "Epoch 1/30\n",
            "111/112 [============================>.] - ETA: 0s - loss: 1.0230 - accuracy: 0.6596WARNING:tensorflow:Learning rate reduction is conditioned on metric `val_acc` which is not available. Available metrics are: loss,accuracy,val_loss,val_accuracy,lr\n",
            "112/112 [==============================] - 5s 33ms/step - loss: 1.0229 - accuracy: 0.6591 - val_loss: 0.9410 - val_accuracy: 0.6595 - lr: 0.0010\n",
            "Epoch 2/30\n",
            "111/112 [============================>.] - ETA: 0s - loss: 0.8893 - accuracy: 0.6799WARNING:tensorflow:Learning rate reduction is conditioned on metric `val_acc` which is not available. Available metrics are: loss,accuracy,val_loss,val_accuracy,lr\n",
            "112/112 [==============================] - 3s 30ms/step - loss: 0.8873 - accuracy: 0.6804 - val_loss: 0.8756 - val_accuracy: 0.6883 - lr: 0.0010\n",
            "Epoch 3/30\n",
            "112/112 [==============================] - ETA: 0s - loss: 0.8260 - accuracy: 0.6970WARNING:tensorflow:Learning rate reduction is conditioned on metric `val_acc` which is not available. Available metrics are: loss,accuracy,val_loss,val_accuracy,lr\n",
            "112/112 [==============================] - 3s 30ms/step - loss: 0.8260 - accuracy: 0.6970 - val_loss: 0.8235 - val_accuracy: 0.7033 - lr: 0.0010\n",
            "Epoch 4/30\n",
            "111/112 [============================>.] - ETA: 0s - loss: 0.7958 - accuracy: 0.7064WARNING:tensorflow:Learning rate reduction is conditioned on metric `val_acc` which is not available. Available metrics are: loss,accuracy,val_loss,val_accuracy,lr\n",
            "112/112 [==============================] - 3s 30ms/step - loss: 0.7961 - accuracy: 0.7061 - val_loss: 0.7943 - val_accuracy: 0.7127 - lr: 0.0010\n",
            "Epoch 5/30\n",
            "112/112 [==============================] - ETA: 0s - loss: 0.7818 - accuracy: 0.7120WARNING:tensorflow:Learning rate reduction is conditioned on metric `val_acc` which is not available. Available metrics are: loss,accuracy,val_loss,val_accuracy,lr\n",
            "112/112 [==============================] - 3s 30ms/step - loss: 0.7818 - accuracy: 0.7120 - val_loss: 0.7704 - val_accuracy: 0.7182 - lr: 0.0010\n",
            "Epoch 6/30\n",
            "112/112 [==============================] - ETA: 0s - loss: 0.7501 - accuracy: 0.7243WARNING:tensorflow:Learning rate reduction is conditioned on metric `val_acc` which is not available. Available metrics are: loss,accuracy,val_loss,val_accuracy,lr\n",
            "112/112 [==============================] - 3s 30ms/step - loss: 0.7501 - accuracy: 0.7243 - val_loss: 0.7820 - val_accuracy: 0.7171 - lr: 0.0010\n",
            "Epoch 7/30\n",
            "112/112 [==============================] - ETA: 0s - loss: 0.7405 - accuracy: 0.7243WARNING:tensorflow:Learning rate reduction is conditioned on metric `val_acc` which is not available. Available metrics are: loss,accuracy,val_loss,val_accuracy,lr\n",
            "112/112 [==============================] - 3s 29ms/step - loss: 0.7405 - accuracy: 0.7243 - val_loss: 0.7418 - val_accuracy: 0.7166 - lr: 0.0010\n",
            "Epoch 8/30\n",
            "112/112 [==============================] - ETA: 0s - loss: 0.7180 - accuracy: 0.7316WARNING:tensorflow:Learning rate reduction is conditioned on metric `val_acc` which is not available. Available metrics are: loss,accuracy,val_loss,val_accuracy,lr\n",
            "112/112 [==============================] - 3s 29ms/step - loss: 0.7180 - accuracy: 0.7316 - val_loss: 0.7625 - val_accuracy: 0.7016 - lr: 0.0010\n",
            "Epoch 9/30\n",
            "112/112 [==============================] - ETA: 0s - loss: 0.7036 - accuracy: 0.7341WARNING:tensorflow:Learning rate reduction is conditioned on metric `val_acc` which is not available. Available metrics are: loss,accuracy,val_loss,val_accuracy,lr\n",
            "112/112 [==============================] - 3s 30ms/step - loss: 0.7036 - accuracy: 0.7341 - val_loss: 0.7075 - val_accuracy: 0.7404 - lr: 0.0010\n",
            "Epoch 10/30\n",
            "111/112 [============================>.] - ETA: 0s - loss: 0.6952 - accuracy: 0.7392WARNING:tensorflow:Learning rate reduction is conditioned on metric `val_acc` which is not available. Available metrics are: loss,accuracy,val_loss,val_accuracy,lr\n",
            "112/112 [==============================] - 3s 30ms/step - loss: 0.6944 - accuracy: 0.7396 - val_loss: 0.6960 - val_accuracy: 0.7454 - lr: 0.0010\n",
            "Epoch 11/30\n",
            "111/112 [============================>.] - ETA: 0s - loss: 0.6823 - accuracy: 0.7474WARNING:tensorflow:Learning rate reduction is conditioned on metric `val_acc` which is not available. Available metrics are: loss,accuracy,val_loss,val_accuracy,lr\n",
            "112/112 [==============================] - 3s 30ms/step - loss: 0.6834 - accuracy: 0.7470 - val_loss: 0.8108 - val_accuracy: 0.6833 - lr: 0.0010\n",
            "Epoch 12/30\n",
            "112/112 [==============================] - ETA: 0s - loss: 0.6844 - accuracy: 0.7425WARNING:tensorflow:Learning rate reduction is conditioned on metric `val_acc` which is not available. Available metrics are: loss,accuracy,val_loss,val_accuracy,lr\n",
            "112/112 [==============================] - 3s 30ms/step - loss: 0.6844 - accuracy: 0.7425 - val_loss: 0.7587 - val_accuracy: 0.6988 - lr: 0.0010\n",
            "Epoch 13/30\n",
            "111/112 [============================>.] - ETA: 0s - loss: 0.6723 - accuracy: 0.7480WARNING:tensorflow:Learning rate reduction is conditioned on metric `val_acc` which is not available. Available metrics are: loss,accuracy,val_loss,val_accuracy,lr\n",
            "112/112 [==============================] - 3s 30ms/step - loss: 0.6721 - accuracy: 0.7477 - val_loss: 0.6803 - val_accuracy: 0.7415 - lr: 0.0010\n",
            "Epoch 14/30\n",
            "111/112 [============================>.] - ETA: 0s - loss: 0.6675 - accuracy: 0.7515WARNING:tensorflow:Learning rate reduction is conditioned on metric `val_acc` which is not available. Available metrics are: loss,accuracy,val_loss,val_accuracy,lr\n",
            "112/112 [==============================] - 3s 30ms/step - loss: 0.6695 - accuracy: 0.7509 - val_loss: 0.6923 - val_accuracy: 0.7388 - lr: 0.0010\n",
            "Epoch 15/30\n",
            "111/112 [============================>.] - ETA: 0s - loss: 0.6614 - accuracy: 0.7546WARNING:tensorflow:Learning rate reduction is conditioned on metric `val_acc` which is not available. Available metrics are: loss,accuracy,val_loss,val_accuracy,lr\n",
            "112/112 [==============================] - 3s 30ms/step - loss: 0.6605 - accuracy: 0.7547 - val_loss: 0.6967 - val_accuracy: 0.7443 - lr: 0.0010\n",
            "Epoch 16/30\n",
            "111/112 [============================>.] - ETA: 0s - loss: 0.6588 - accuracy: 0.7529WARNING:tensorflow:Learning rate reduction is conditioned on metric `val_acc` which is not available. Available metrics are: loss,accuracy,val_loss,val_accuracy,lr\n",
            "112/112 [==============================] - 4s 38ms/step - loss: 0.6584 - accuracy: 0.7531 - val_loss: 0.7217 - val_accuracy: 0.7299 - lr: 0.0010\n",
            "Epoch 17/30\n",
            "111/112 [============================>.] - ETA: 0s - loss: 0.6499 - accuracy: 0.7546WARNING:tensorflow:Learning rate reduction is conditioned on metric `val_acc` which is not available. Available metrics are: loss,accuracy,val_loss,val_accuracy,lr\n",
            "112/112 [==============================] - 4s 33ms/step - loss: 0.6480 - accuracy: 0.7554 - val_loss: 0.6805 - val_accuracy: 0.7549 - lr: 0.0010\n",
            "Epoch 18/30\n",
            "112/112 [==============================] - ETA: 0s - loss: 0.6471 - accuracy: 0.7540WARNING:tensorflow:Learning rate reduction is conditioned on metric `val_acc` which is not available. Available metrics are: loss,accuracy,val_loss,val_accuracy,lr\n",
            "112/112 [==============================] - 3s 30ms/step - loss: 0.6471 - accuracy: 0.7540 - val_loss: 0.6688 - val_accuracy: 0.7526 - lr: 0.0010\n",
            "Epoch 19/30\n",
            "111/112 [============================>.] - ETA: 0s - loss: 0.6446 - accuracy: 0.7605WARNING:tensorflow:Learning rate reduction is conditioned on metric `val_acc` which is not available. Available metrics are: loss,accuracy,val_loss,val_accuracy,lr\n",
            "112/112 [==============================] - 3s 30ms/step - loss: 0.6452 - accuracy: 0.7607 - val_loss: 0.6925 - val_accuracy: 0.7443 - lr: 0.0010\n",
            "Epoch 20/30\n",
            "112/112 [==============================] - ETA: 0s - loss: 0.6393 - accuracy: 0.7611WARNING:tensorflow:Learning rate reduction is conditioned on metric `val_acc` which is not available. Available metrics are: loss,accuracy,val_loss,val_accuracy,lr\n",
            "112/112 [==============================] - 3s 30ms/step - loss: 0.6393 - accuracy: 0.7611 - val_loss: 0.6682 - val_accuracy: 0.7482 - lr: 0.0010\n",
            "Epoch 21/30\n",
            "112/112 [==============================] - ETA: 0s - loss: 0.6406 - accuracy: 0.7656WARNING:tensorflow:Learning rate reduction is conditioned on metric `val_acc` which is not available. Available metrics are: loss,accuracy,val_loss,val_accuracy,lr\n",
            "112/112 [==============================] - 4s 32ms/step - loss: 0.6406 - accuracy: 0.7656 - val_loss: 0.6697 - val_accuracy: 0.7554 - lr: 0.0010\n",
            "Epoch 22/30\n",
            "112/112 [==============================] - ETA: 0s - loss: 0.6316 - accuracy: 0.7663WARNING:tensorflow:Learning rate reduction is conditioned on metric `val_acc` which is not available. Available metrics are: loss,accuracy,val_loss,val_accuracy,lr\n",
            "112/112 [==============================] - 4s 32ms/step - loss: 0.6316 - accuracy: 0.7663 - val_loss: 0.6833 - val_accuracy: 0.7510 - lr: 0.0010\n",
            "Epoch 23/30\n",
            "111/112 [============================>.] - ETA: 0s - loss: 0.6267 - accuracy: 0.7676WARNING:tensorflow:Learning rate reduction is conditioned on metric `val_acc` which is not available. Available metrics are: loss,accuracy,val_loss,val_accuracy,lr\n",
            "112/112 [==============================] - 3s 30ms/step - loss: 0.6255 - accuracy: 0.7676 - val_loss: 0.6880 - val_accuracy: 0.7460 - lr: 0.0010\n",
            "Epoch 24/30\n",
            "112/112 [==============================] - ETA: 0s - loss: 0.6294 - accuracy: 0.7624WARNING:tensorflow:Learning rate reduction is conditioned on metric `val_acc` which is not available. Available metrics are: loss,accuracy,val_loss,val_accuracy,lr\n",
            "112/112 [==============================] - 3s 30ms/step - loss: 0.6294 - accuracy: 0.7624 - val_loss: 0.6966 - val_accuracy: 0.7432 - lr: 0.0010\n",
            "Epoch 25/30\n",
            "112/112 [==============================] - ETA: 0s - loss: 0.6165 - accuracy: 0.7677WARNING:tensorflow:Learning rate reduction is conditioned on metric `val_acc` which is not available. Available metrics are: loss,accuracy,val_loss,val_accuracy,lr\n",
            "112/112 [==============================] - 3s 30ms/step - loss: 0.6165 - accuracy: 0.7677 - val_loss: 0.6536 - val_accuracy: 0.7543 - lr: 0.0010\n",
            "Epoch 26/30\n",
            "112/112 [==============================] - ETA: 0s - loss: 0.6201 - accuracy: 0.7706WARNING:tensorflow:Learning rate reduction is conditioned on metric `val_acc` which is not available. Available metrics are: loss,accuracy,val_loss,val_accuracy,lr\n",
            "112/112 [==============================] - 3s 30ms/step - loss: 0.6201 - accuracy: 0.7706 - val_loss: 0.7072 - val_accuracy: 0.7438 - lr: 0.0010\n",
            "Epoch 27/30\n",
            "112/112 [==============================] - ETA: 0s - loss: 0.6099 - accuracy: 0.7683WARNING:tensorflow:Learning rate reduction is conditioned on metric `val_acc` which is not available. Available metrics are: loss,accuracy,val_loss,val_accuracy,lr\n",
            "112/112 [==============================] - 3s 30ms/step - loss: 0.6099 - accuracy: 0.7683 - val_loss: 0.6734 - val_accuracy: 0.7471 - lr: 0.0010\n",
            "Epoch 28/30\n",
            "112/112 [==============================] - ETA: 0s - loss: 0.6224 - accuracy: 0.7655WARNING:tensorflow:Learning rate reduction is conditioned on metric `val_acc` which is not available. Available metrics are: loss,accuracy,val_loss,val_accuracy,lr\n",
            "112/112 [==============================] - 3s 30ms/step - loss: 0.6224 - accuracy: 0.7655 - val_loss: 0.6961 - val_accuracy: 0.7432 - lr: 0.0010\n",
            "Epoch 29/30\n",
            "112/112 [==============================] - ETA: 0s - loss: 0.6101 - accuracy: 0.7706WARNING:tensorflow:Learning rate reduction is conditioned on metric `val_acc` which is not available. Available metrics are: loss,accuracy,val_loss,val_accuracy,lr\n",
            "112/112 [==============================] - 3s 30ms/step - loss: 0.6101 - accuracy: 0.7706 - val_loss: 0.7818 - val_accuracy: 0.7105 - lr: 0.0010\n",
            "Epoch 30/30\n",
            "112/112 [==============================] - ETA: 0s - loss: 0.6084 - accuracy: 0.7712WARNING:tensorflow:Learning rate reduction is conditioned on metric `val_acc` which is not available. Available metrics are: loss,accuracy,val_loss,val_accuracy,lr\n",
            "112/112 [==============================] - 3s 30ms/step - loss: 0.6084 - accuracy: 0.7712 - val_loss: 0.6867 - val_accuracy: 0.7454 - lr: 0.0010\n"
          ]
        }
      ],
      "source": [
        "batch_size = 64\n",
        "epochs = 30\n",
        "history = model.fit(train_datagen.flow(X_train,y_train, batch_size=batch_size),\n",
        "                              epochs = epochs, validation_data = val_datagen.flow(X_val, y_val),\n",
        "                              verbose = 1, steps_per_epoch=(X_train.shape[0] // batch_size),\n",
        "                              callbacks=[learning_rate_reduction])"
      ]
    },
    {
      "cell_type": "code",
      "execution_count": null,
      "metadata": {
        "colab": {
          "base_uri": "https://localhost:8080/"
        },
        "id": "pzmhcKchK3fQ",
        "outputId": "c7f25f10-21e1-41ca-ea7b-b34c817c08b2"
      },
      "outputs": [
        {
          "output_type": "stream",
          "name": "stdout",
          "text": [
            "32/32 [==============================] - 0s 5ms/step - loss: 0.7151 - accuracy: 0.7246\n",
            "57/57 [==============================] - 0s 3ms/step - loss: 0.6867 - accuracy: 0.7454\n",
            "Validation: accuracy = 0.745424  ;  loss_v = 0.686714\n",
            "Test: accuracy = 0.724551  ;  loss = 0.715123\n"
          ]
        }
      ],
      "source": [
        "loss_test, acc_test = model.evaluate(X_test, y_test, verbose=1)\n",
        "loss_val, acc_val = model.evaluate(X_val, y_val, verbose=1)\n",
        "print(\"Validation: accuracy = %f  ;  loss_v = %f\" % (acc_val, loss_val))\n",
        "print(\"Test: accuracy = %f  ;  loss = %f\" % (acc_test, loss_test))\n",
        "model.save(\"model.h5\")"
      ]
    },
    {
      "cell_type": "code",
      "execution_count": null,
      "metadata": {
        "id": "F3iwk30TLRbu"
      },
      "outputs": [],
      "source": [
        ""
      ]
    }
  ],
  "metadata": {
    "accelerator": "GPU",
    "colab": {
      "name": "Skin Cancer Main.ipynb",
      "provenance": []
    },
    "kernelspec": {
      "display_name": "Python 3",
      "language": "python",
      "name": "python3"
    },
    "language_info": {
      "codemirror_mode": {
        "name": "ipython",
        "version": 3
      },
      "file_extension": ".py",
      "mimetype": "text/x-python",
      "name": "python",
      "nbconvert_exporter": "python",
      "pygments_lexer": "ipython3",
      "version": "3.6.4"
    }
  },
  "nbformat": 4,
  "nbformat_minor": 0
}